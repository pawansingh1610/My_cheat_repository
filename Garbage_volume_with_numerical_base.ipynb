{
 "cells": [
  {
   "cell_type": "code",
   "execution_count": 45,
   "id": "a13e6284-ed57-4cba-8cdf-653d6ae81707",
   "metadata": {},
   "outputs": [],
   "source": [
    "import rasterio\n",
    "import numpy as np\n",
    "import matplotlib.pyplot as plt\n",
    "\n",
    "\n"
   ]
  },
  {
   "cell_type": "code",
   "execution_count": 46,
   "id": "0505d6c1-329f-4ca1-a333-e4b1f6f1cbd4",
   "metadata": {},
   "outputs": [],
   "source": [
    "# Path to your DEM file in TIFF format\n",
    "dem_file = \"Y:/Drone/2024_June_Luckhnow/Luckhnow/Section_A2.tif\"\n",
    "\n"
   ]
  },
  {
   "cell_type": "code",
   "execution_count": 47,
   "id": "d9a41f8d-62cb-4bd7-ad1e-22f693f76e79",
   "metadata": {},
   "outputs": [],
   "source": [
    "# Define the base layer value\n",
    "base_layer_value = 70.5  # Example value, replace with your actual base layer value\n",
    "\n"
   ]
  },
  {
   "cell_type": "code",
   "execution_count": 48,
   "id": "5fa5e919-419a-45d9-ac91-bd0387d86cac",
   "metadata": {},
   "outputs": [
    {
     "name": "stdout",
     "output_type": "stream",
     "text": [
      "Area between 69.5m and 70.5m: 0.0 square meters\n",
      "Volume between 69.5m and 70.5m: 0.0 cubic meters\n",
      "Area between 70.5m and 71.5m: 49.001886887473084 square meters\n",
      "Volume between 70.5m and 71.5m: 26.413636481313514 cubic meters\n",
      "Area between 71.5m and 72.5m: 95.78419113774552 square meters\n",
      "Volume between 71.5m and 72.5m: 151.64350032584701 cubic meters\n",
      "Area between 72.5m and 73.5m: 125.2274435884094 square meters\n",
      "Volume between 72.5m and 73.5m: 306.3126240407562 cubic meters\n",
      "Area between 73.5m and 74.5m: 105.76656279106241 square meters\n",
      "Volume between 73.5m and 74.5m: 370.10080460025506 cubic meters\n",
      "Area between 74.5m and 75.5m: 227.5438779278646 square meters\n",
      "Volume between 74.5m and 75.5m: 1042.561253060192 cubic meters\n",
      "Area between 75.5m and 76.5m: 151.86243523481716 square meters\n",
      "Volume between 75.5m and 76.5m: 833.8089849183197 cubic meters\n",
      "Area between 76.5m and 77.5m: 156.63726925648942 square meters\n",
      "Volume between 76.5m and 77.5m: 1017.4092775654049 cubic meters\n",
      "Area between 77.5m and 78.5m: 178.7216852305794 square meters\n",
      "Volume between 77.5m and 78.5m: 1347.165726590796 cubic meters\n",
      "Area between 78.5m and 79.5m: 294.0630732516126 square meters\n",
      "Volume between 78.5m and 79.5m: 2507.943474715027 cubic meters\n",
      "Area between 79.5m and 80.5m: 250.96162479314862 square meters\n",
      "Volume between 79.5m and 80.5m: 2369.460709493219 cubic meters\n",
      "Area between 80.5m and 81.5m: 145.61985906769036 square meters\n",
      "Volume between 80.5m and 81.5m: 1523.0326102218608 cubic meters\n",
      "Area between 81.5m and 82.5m: 66.12961831942069 square meters\n",
      "Volume between 81.5m and 82.5m: 756.8058914564405 cubic meters\n",
      "Area between 82.5m and 83.5m: 36.50164024124366 square meters\n",
      "Volume between 82.5m and 83.5m: 453.2911733422308 cubic meters\n",
      "Area between 83.5m and 84.5m: 15.148939009598713 square meters\n",
      "Volume between 83.5m and 84.5m: 204.31056468703466 cubic meters\n",
      "Area between 84.5m and 85.5m: 17.977325563155883 square meters\n",
      "Volume between 84.5m and 85.5m: 260.99338988699344 cubic meters\n",
      "Area between 85.5m and 86.5m: 30.883681079209904 square meters\n",
      "Volume between 85.5m and 86.5m: 479.15657969561147 cubic meters\n",
      "Area between 86.5m and 87.5m: 21.994568878996045 square meters\n",
      "Volume between 86.5m and 87.5m: 362.4421259055789 cubic meters\n",
      "Area between 87.5m and 88.5m: 28.83229220402511 square meters\n",
      "Volume between 87.5m and 88.5m: 506.48254042683914 cubic meters\n",
      "Area between 88.5m and 89.5m: 38.40999254103891 square meters\n",
      "Volume between 88.5m and 89.5m: 706.3050405579677 cubic meters\n",
      "Total volume: 15225.639907971688 cubic meters\n",
      "Total area: 2037.0679670035815 square meters\n"
     ]
    }
   ],
   "source": [
    "# Open the DEM file\n",
    "with rasterio.open(dem_file) as dem:\n",
    "    # Read the data\n",
    "    dem_data = dem.read(1)  # Read the first band\n",
    "\n",
    "    # Subtract the base layer value from the DEM data\n",
    "    dem_adjusted = dem_data - base_layer_value\n",
    "\n",
    "    # Calculate the pixel area (assuming square pixels)\n",
    "    pixel_size = dem.transform[0]  # pixel size in x direction (assumed to be the same in y direction)\n",
    "    pixel_area = pixel_size ** 2\n",
    "\n",
    "    # Calculate the total area\n",
    "    total_area = dem_data.size * pixel_area\n",
    "\n",
    "    # Mask values below 0 (set them to NaN)\n",
    "    dem_adjusted = np.where(dem_adjusted < 0, np.nan, dem_adjusted)\n",
    "\n",
    "    # Get the maximum elevation\n",
    "    max_elevation = np.nanmax(dem_adjusted)\n",
    "\n",
    "    # Initialize lists to store area and volume for each meter gap\n",
    "    elevation_intervals = []\n",
    "    area_values = []\n",
    "    volume_values = []\n",
    "\n",
    "    # Calculate the volume and area for each meter from the top\n",
    "    for elevation in range(int(np.floor(max_elevation)) + 1):\n",
    "        # Define elevation interval\n",
    "        min_elevation = elevation - 1\n",
    "        max_elevation = elevation\n",
    "\n",
    "        # Create a mask for all pixels within the current elevation interval\n",
    "        mask = (dem_adjusted > min_elevation) & (dem_adjusted <= max_elevation)\n",
    "        masked_dem_adjusted = mask * dem_adjusted\n",
    "\n",
    "        # Calculate the area for the current elevation interval\n",
    "        area = np.sum(mask) * pixel_area\n",
    "        area_values.append(area)\n",
    "        elevation_intervals.append((min_elevation + base_layer_value, max_elevation + base_layer_value))\n",
    "\n",
    "        # Calculate the volume for the current elevation interval\n",
    "        volume = np.nansum(masked_dem_adjusted) * pixel_area\n",
    "        volume_values.append(volume)\n",
    "\n",
    "    # Print the area values along with elevation intervals\n",
    "    for i, (elevation_interval, area,volume) in enumerate(zip(elevation_intervals, area_values,volume_values)):\n",
    "        print(f\"Area between {elevation_interval[0]}m and {elevation_interval[1]}m: {area} square meters\")\n",
    "        print(f\"Volume between {elevation_interval[0]}m and {elevation_interval[1]}m: {volume} cubic meters\")\n",
    "\n",
    "    # Calculate the total volume\n",
    "    total_volume = np.nansum(volume_values)\n",
    "    print(f\"Total volume: {total_volume} cubic meters\")\n",
    "\n",
    "    # Print the total area\n",
    "    total_area = np.sum(area_values)\n",
    "    print(f\"Total area: {total_area} square meters\")\n",
    "\n",
    "  "
   ]
  },
  {
   "cell_type": "code",
   "execution_count": 49,
   "id": "b10b6193-6d95-429a-bc3c-8cd2d4416172",
   "metadata": {},
   "outputs": [
    {
     "name": "stdout",
     "output_type": "stream",
     "text": [
      "Data exported to area_volume_data_section_A2.csv\n"
     ]
    }
   ],
   "source": [
    "import csv\n",
    "\n",
    "# Write area and volume data to CSV\n",
    "csv_file = 'area_volume_data_section_A2.csv'\n",
    "with open(csv_file, 'w', newline='') as csvfile:\n",
    "    csvwriter = csv.writer(csvfile)\n",
    "    csvwriter.writerow(['Elevation Interval (m)', 'Area (sqm)', 'Volume (cubic meters)'])\n",
    "    for elevation_interval, area, volume in zip(elevation_intervals, area_values, volume_values):\n",
    "        min_elevation, max_elevation = elevation_interval\n",
    "        csvwriter.writerow([f\"{min_elevation}-{max_elevation}\", area, volume])\n",
    "\n",
    "    print(f\"Data exported to {csv_file}\")"
   ]
  }
 ],
 "metadata": {
  "kernelspec": {
   "display_name": "Python 3 (ipykernel)",
   "language": "python",
   "name": "python3"
  },
  "language_info": {
   "codemirror_mode": {
    "name": "ipython",
    "version": 3
   },
   "file_extension": ".py",
   "mimetype": "text/x-python",
   "name": "python",
   "nbconvert_exporter": "python",
   "pygments_lexer": "ipython3",
   "version": "3.11.7"
  }
 },
 "nbformat": 4,
 "nbformat_minor": 5
}
